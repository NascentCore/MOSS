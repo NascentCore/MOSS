{
 "cells": [
  {
   "cell_type": "markdown",
   "id": "b21e76e5-2746-4daa-8e13-8380ec2f6c4a",
   "metadata": {},
   "source": [
    "* 测试moss关于输入序列长度和GPU显存的关系"
   ]
  },
  {
   "cell_type": "code",
   "execution_count": 1,
   "id": "6a552f9f-4036-4372-8cbf-10a99f75cf97",
   "metadata": {},
   "outputs": [
    {
     "name": "stderr",
     "output_type": "stream",
     "text": [
      "/home/qs/anaconda3/envs/moss/lib/python3.8/site-packages/tqdm/auto.py:21: TqdmWarning: IProgress not found. Please update jupyter and ipywidgets. See https://ipywidgets.readthedocs.io/en/stable/user_install.html\n",
      "  from .autonotebook import tqdm as notebook_tqdm\n"
     ]
    }
   ],
   "source": [
    "import torch\n",
    "from transformers import AutoTokenizer, AutoModelForCausalLM\n",
    "import matplotlib.pyplot as plt \n",
    "import numpy as np\n",
    "import os\n",
    "import math"
   ]
  },
  {
   "cell_type": "code",
   "execution_count": 2,
   "id": "3bdc8cb6-90f1-4c5e-b612-57593baefb1d",
   "metadata": {},
   "outputs": [
    {
     "name": "stderr",
     "output_type": "stream",
     "text": [
      "Explicitly passing a `revision` is encouraged when loading a configuration with custom code to ensure no malicious code has been contributed in a newer revision.\n",
      "Explicitly passing a `revision` is encouraged when loading a model with custom code to ensure no malicious code has been contributed in a newer revision.\n"
     ]
    },
    {
     "name": "stdout",
     "output_type": "stream",
     "text": [
      "模型占用显存（G）： 17.27969455718994\n"
     ]
    }
   ],
   "source": [
    "# os.environ[\"CUDA_LAUNCH_BLOCKING\"]=\"1\"\n",
    "# model = AutoModelForCausalLM.from_pretrained(\"fnlp/moss-moon-003-sft-int4\", trust_remote_code=True).half().cuda(\"cuda:1\")\n",
    "model = AutoModelForCausalLM.from_pretrained(\"../model/moss-moon-003-sft-int8\", trust_remote_code=True).half().cuda(\"cuda:0\")\n",
    "model_size = torch.cuda.memory_allocated()/1024/1024/1024\n",
    "print(\"模型占用显存（G）：\",model_size)\n",
    "# model.eval()"
   ]
  },
  {
   "cell_type": "code",
   "execution_count": null,
   "id": "54bf4917-dd67-4988-902d-479c50e8734b",
   "metadata": {},
   "outputs": [],
   "source": [
    "x, y =[], []\n",
    "for i in range(64, 2048, 32):\n",
    "    torch.cuda.empty_cache()\n",
    "    try:\n",
    "        demo_data = torch.zeros((1,i),dtype=torch.long).to(\"cuda:0\")\n",
    "        _=model(demo_data) \n",
    "        x.append(i)\n",
    "        # data_size = torch.cuda.memory_allocated('cuda:0')/1024/1024/1024\n",
    "        data_size = torch.cuda.max_memory_allocated('cuda:0')/1024/1024/1024\n",
    "        y.append(data_size)\n",
    "    except:\n",
    "        print(\"最大长度序列为：\"+str(x[-1]))\n",
    "        break\n",
    "plt.plot(x,y)"
   ]
  },
  {
   "cell_type": "code",
   "execution_count": 4,
   "id": "fc8661a0-274a-4a8c-adb5-107ad57e76f4",
   "metadata": {},
   "outputs": [],
   "source": [
    "# coeff = np.polyfit(x,y,2) \n",
    "# p=np.poly1d(coeff) \n",
    "# plt.plot(x, p(x)) \n",
    "# print(p)"
   ]
  },
  {
   "cell_type": "code",
   "execution_count": 4,
   "id": "2565295b-acb0-4dd1-a2fc-d43c0c078a6d",
   "metadata": {},
   "outputs": [
    {
     "data": {
      "text/plain": [
       "MossForCausalLM(\n",
       "  (transformer): MossModel(\n",
       "    (wte): Embedding(107008, 6144)\n",
       "    (drop): Dropout(p=0.0, inplace=False)\n",
       "    (h): ModuleList(\n",
       "      (0-33): 34 x MossBlock(\n",
       "        (ln_1): LayerNorm((6144,), eps=1e-05, elementwise_affine=True)\n",
       "        (attn): MossAttention(\n",
       "          (attn_dropout): Dropout(p=0.0, inplace=False)\n",
       "          (resid_dropout): Dropout(p=0.0, inplace=False)\n",
       "          (out_proj): QuantLinear()\n",
       "          (qkv_proj): QuantLinear()\n",
       "        )\n",
       "        (mlp): MossMLP(\n",
       "          (act): NewGELUActivation()\n",
       "          (dropout): Dropout(p=0.0, inplace=False)\n",
       "          (fc_in): QuantLinear()\n",
       "          (fc_out): QuantLinear()\n",
       "        )\n",
       "      )\n",
       "    )\n",
       "    (ln_f): LayerNorm((6144,), eps=1e-05, elementwise_affine=True)\n",
       "  )\n",
       "  (lm_head): Linear(in_features=6144, out_features=107008, bias=True)\n",
       ")"
      ]
     },
     "execution_count": 4,
     "metadata": {},
     "output_type": "execute_result"
    }
   ],
   "source": [
    "model.eval()"
   ]
  },
  {
   "cell_type": "code",
   "execution_count": null,
   "id": "8f7ede5a-de1a-48fb-9900-6e7b7cdeab90",
   "metadata": {},
   "outputs": [],
   "source": []
  }
 ],
 "metadata": {
  "kernelspec": {
   "display_name": "moss",
   "language": "python",
   "name": "moss"
  },
  "language_info": {
   "codemirror_mode": {
    "name": "ipython",
    "version": 3
   },
   "file_extension": ".py",
   "mimetype": "text/x-python",
   "name": "python",
   "nbconvert_exporter": "python",
   "pygments_lexer": "ipython3",
   "version": "3.8.16"
  }
 },
 "nbformat": 4,
 "nbformat_minor": 5
}
