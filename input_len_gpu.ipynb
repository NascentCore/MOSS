{
 "cells": [
  {
   "cell_type": "markdown",
   "id": "b21e76e5-2746-4daa-8e13-8380ec2f6c4a",
   "metadata": {},
   "source": [
    "* 测试moss关于输入序列长度和GPU显存的关系"
   ]
  },
  {
   "cell_type": "code",
   "execution_count": 1,
   "id": "6a552f9f-4036-4372-8cbf-10a99f75cf97",
   "metadata": {},
   "outputs": [
    {
     "name": "stderr",
     "output_type": "stream",
     "text": [
      "/home/qs/anaconda3/envs/moss/lib/python3.8/site-packages/tqdm/auto.py:21: TqdmWarning: IProgress not found. Please update jupyter and ipywidgets. See https://ipywidgets.readthedocs.io/en/stable/user_install.html\n",
      "  from .autonotebook import tqdm as notebook_tqdm\n"
     ]
    }
   ],
   "source": [
    "import torch\n",
    "from transformers import AutoTokenizer, AutoModelForCausalLM\n",
    "import matplotlib.pyplot as plt \n",
    "import numpy as np\n",
    "import os"
   ]
  },
  {
   "cell_type": "code",
   "execution_count": null,
   "id": "3bdc8cb6-90f1-4c5e-b612-57593baefb1d",
   "metadata": {},
   "outputs": [
    {
     "name": "stderr",
     "output_type": "stream",
     "text": [
      "Explicitly passing a `revision` is encouraged when loading a configuration with custom code to ensure no malicious code has been contributed in a newer revision.\n",
      "Explicitly passing a `revision` is encouraged when loading a model with custom code to ensure no malicious code has been contributed in a newer revision.\n"
     ]
    }
   ],
   "source": [
    "# os.environ[\"CUDA_LAUNCH_BLOCKING\"]=\"1\"\n",
    "# model = AutoModelForCausalLM.from_pretrained(\"fnlp/moss-moon-003-sft-int4\", trust_remote_code=True).half().cuda(\"cuda:1\")\n",
    "model = AutoModelForCausalLM.from_pretrained(\"../model/moss-moon-003-sft-int4\", trust_remote_code=True).half().cuda(\"cuda:0\")\n",
    "print(torch.cuda.memory_allocated())"
   ]
  },
  {
   "cell_type": "code",
   "execution_count": null,
   "id": "dec358f6-fef7-40f6-85ab-3d4f2baa5652",
   "metadata": {},
   "outputs": [],
   "source": [
    "# # 使用多块GPU设备，以逗号分隔\n",
    "# device_ids = [0, 1]\n",
    "\n",
    "# # 设置CUDA环境变量，将多块GPU并行装载到模型中\n",
    "# torch.cuda.set_device(device_ids[0])\n",
    "# device = torch.device('cuda', device_ids[0])\n",
    "# model = torch.nn.DataParallel(model, device_ids=device_ids).half().to(device)"
   ]
  },
  {
   "cell_type": "code",
   "execution_count": null,
   "id": "54bf4917-dd67-4988-902d-479c50e8734b",
   "metadata": {},
   "outputs": [],
   "source": [
    "x, y =[], []\n",
    "for i in range(64, 2048, 32):\n",
    "    demo_data = torch.zeros((1,i),dtype=torch.long).to(\"cuda:0\")\n",
    "    _=model(demo_data) \n",
    "    x.append(i)\n",
    "    y.append(torch.cuda.memory_allocated('cuda:0')/1024/1024)"
   ]
  },
  {
   "cell_type": "code",
   "execution_count": null,
   "id": "fc8661a0-274a-4a8c-adb5-107ad57e76f4",
   "metadata": {},
   "outputs": [],
   "source": [
    "plt.plot(x,y)\n",
    "# coeff = np.polyfit(x,y,2) \n",
    "# p=np.poly1d(coeff) \n",
    "# plt.plot(x, p(x)) \n",
    "# print(p)"
   ]
  },
  {
   "cell_type": "code",
   "execution_count": null,
   "id": "2565295b-acb0-4dd1-a2fc-d43c0c078a6d",
   "metadata": {},
   "outputs": [],
   "source": []
  }
 ],
 "metadata": {
  "kernelspec": {
   "display_name": "moss",
   "language": "python",
   "name": "moss"
  },
  "language_info": {
   "codemirror_mode": {
    "name": "ipython",
    "version": 3
   },
   "file_extension": ".py",
   "mimetype": "text/x-python",
   "name": "python",
   "nbconvert_exporter": "python",
   "pygments_lexer": "ipython3",
   "version": "3.8.16"
  }
 },
 "nbformat": 4,
 "nbformat_minor": 5
}
